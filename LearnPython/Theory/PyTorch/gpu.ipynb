{
 "cells": [
  {
   "cell_type": "markdown",
   "id": "3a5b3966",
   "metadata": {},
   "source": [
    "### GPU Support\n",
    "\n",
    "#### By default are created on the CPU. But we can also move them to the GPU (if it's available), or create them direcly on the GPU\n"
   ]
  },
  {
   "cell_type": "code",
   "execution_count": 1,
   "id": "88088d31",
   "metadata": {},
   "outputs": [],
   "source": [
    "import torch\n",
    "import numpy as np"
   ]
  },
  {
   "cell_type": "code",
   "execution_count": 2,
   "id": "2aa1a6e9",
   "metadata": {},
   "outputs": [],
   "source": [
    "device = torch.device('cuda' if torch.cuda.is_available() else 'cpu')\n",
    "\n",
    "x = torch.rand(2, 2).to(device) # Move tensors to GPU device \n",
    "# x = a.to(\"cpu\")\n",
    "# x = x.to('cuda')\n",
    "\n",
    "x = torch.rand(2, 2, device=device) # or directly create them on GPU "
   ]
  }
 ],
 "metadata": {
  "kernelspec": {
   "display_name": "torch_env",
   "language": "python",
   "name": "python3"
  },
  "language_info": {
   "codemirror_mode": {
    "name": "ipython",
    "version": 3
   },
   "file_extension": ".py",
   "mimetype": "text/x-python",
   "name": "python",
   "nbconvert_exporter": "python",
   "pygments_lexer": "ipython3",
   "version": "3.13.0"
  }
 },
 "nbformat": 4,
 "nbformat_minor": 5
}
