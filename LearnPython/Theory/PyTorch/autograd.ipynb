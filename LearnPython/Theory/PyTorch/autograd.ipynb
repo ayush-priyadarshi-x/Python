{
 "cells": [
  {
   "cell_type": "markdown",
   "id": "a0162bdf",
   "metadata": {},
   "source": [
    "### 2. Autograd\n",
    "\n",
    "The autograd package provides automatic differentiation for all operations on Tensors. Generally speaking, torch.autograd is an engine for computing the vector-Jacobian product. It computes partial derivatives while applying the chain rule.\n"
   ]
  },
  {
   "cell_type": "code",
   "execution_count": 1,
   "id": "3b01ff32",
   "metadata": {},
   "outputs": [],
   "source": [
    "import torch\n",
    "import numpy as np"
   ]
  },
  {
   "cell_type": "code",
   "execution_count": 2,
   "id": "4f330add",
   "metadata": {},
   "outputs": [
    {
     "name": "stdout",
     "output_type": "stream",
     "text": [
      "tensor([ 0.4397, -1.2977, -0.8586], requires_grad=True)\n",
      "tensor([2.4397, 0.7023, 1.1414], grad_fn=<AddBackward0>)\n",
      "<AddBackward0 object at 0x000001CBA0E427D0>\n"
     ]
    }
   ],
   "source": [
    "# requires_grad = True --> tracks all operations on the tensor. \n",
    "x = torch.randn(3, requires_grad=True )\n",
    "y = x + 2 \n",
    "\n",
    "# y was created as a result of an operation, so it has a grad_fn attribute\n",
    "# grad_fn: references a Function that has created the Tensor\n",
    "print(x)\n",
    "print(y)\n",
    "print(y.grad_fn)"
   ]
  },
  {
   "cell_type": "code",
   "execution_count": 3,
   "id": "9ff150ff",
   "metadata": {},
   "outputs": [
    {
     "name": "stdout",
     "output_type": "stream",
     "text": [
      "tensor([17.8562,  1.4798,  3.9081], grad_fn=<MulBackward0>)\n",
      "tensor(7.7480, grad_fn=<MeanBackward0>)\n"
     ]
    }
   ],
   "source": [
    "# Do more operations of y \n",
    "z = y * y * 3\n",
    "print(z)\n",
    "z = z.mean()\n",
    "print(z)"
   ]
  },
  {
   "cell_type": "code",
   "execution_count": 4,
   "id": "e1ff7093",
   "metadata": {},
   "outputs": [
    {
     "name": "stdout",
     "output_type": "stream",
     "text": [
      "tensor([17.8562,  1.4798,  3.9081], grad_fn=<MulBackward0>)\n",
      "tensor(7.7480, grad_fn=<MeanBackward0>)\n"
     ]
    }
   ],
   "source": [
    "# Let's compute the graidients with backpropogation\n",
    "# When we finish our computation we can  call .backward() and have all the gradients computer automatically. \n",
    "# The gradient for this tensor will be accumulated into .grad attribute. \n",
    "# It is the partial derivate of the function w.r.t. the tensor\n",
    "\n",
    "z = y * y * 3\n",
    "print(z)\n",
    "z = z.mean()\n",
    "print(z)\n",
    "\n",
    "\n",
    "# ! ! ! Careful ! ! ! backward() accumulate the gradient for this tensor into .grad attribute. \n",
    "# ! ! ! We need to be careful during optimization ! ! ! optimizer.zero_grad()"
   ]
  },
  {
   "cell_type": "code",
   "execution_count": 5,
   "id": "54ca389a",
   "metadata": {},
   "outputs": [
    {
     "name": "stdout",
     "output_type": "stream",
     "text": [
      "tensor([4.8794, 1.4047, 2.2827])\n"
     ]
    }
   ],
   "source": [
    "z.backward()\n",
    "print(x.grad)"
   ]
  }
 ],
 "metadata": {
  "kernelspec": {
   "display_name": "torch_env",
   "language": "python",
   "name": "python3"
  },
  "language_info": {
   "codemirror_mode": {
    "name": "ipython",
    "version": 3
   },
   "file_extension": ".py",
   "mimetype": "text/x-python",
   "name": "python",
   "nbconvert_exporter": "python",
   "pygments_lexer": "ipython3",
   "version": "3.13.0"
  }
 },
 "nbformat": 4,
 "nbformat_minor": 5
}
