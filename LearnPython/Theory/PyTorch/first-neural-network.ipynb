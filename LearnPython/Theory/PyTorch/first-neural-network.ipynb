{
 "cells": [
  {
   "cell_type": "markdown",
   "id": "0eeb758b",
   "metadata": {},
   "source": [
    "## 4. First Neural Net\n",
    "\n",
    "GPU, Datasets, DataLoader, Transformers, Neural Net, Training & Evaluation\n"
   ]
  },
  {
   "cell_type": "code",
   "execution_count": null,
   "id": "b7b4ed09",
   "metadata": {
    "vscode": {
     "languageId": "plaintext"
    }
   },
   "outputs": [],
   "source": []
  }
 ],
 "metadata": {
  "language_info": {
   "name": "python"
  }
 },
 "nbformat": 4,
 "nbformat_minor": 5
}
