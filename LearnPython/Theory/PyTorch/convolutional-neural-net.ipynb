{
 "cells": [
  {
   "cell_type": "markdown",
   "id": "b7d05a8a",
   "metadata": {},
   "source": [
    "## 5.CNN\n",
    "\n",
    "This section covers:\n",
    "\n",
    "- Convolutional Layers\n",
    "- MaxPooling\n",
    "- Save/Load Model\n"
   ]
  },
  {
   "cell_type": "code",
   "execution_count": null,
   "id": "b9951558",
   "metadata": {
    "vscode": {
     "languageId": "plaintext"
    }
   },
   "outputs": [],
   "source": []
  }
 ],
 "metadata": {
  "language_info": {
   "name": "python"
  }
 },
 "nbformat": 4,
 "nbformat_minor": 5
}
