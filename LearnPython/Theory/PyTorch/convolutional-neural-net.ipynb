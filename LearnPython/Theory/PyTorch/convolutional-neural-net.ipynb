{
 "cells": [
  {
   "cell_type": "markdown",
   "id": "b7d05a8a",
   "metadata": {},
   "source": [
    "## 5.CNN\n",
    "\n",
    "This section covers:\n",
    "\n",
    "- Convolutional Layers\n",
    "- MaxPooling\n",
    "- Save/Load Model\n"
   ]
  },
  {
   "cell_type": "code",
   "execution_count": 2,
   "id": "b9951558",
   "metadata": {},
   "outputs": [],
   "source": [
    "import torch \n",
    "import torch.nn as nn \n",
    "import torch.nn.functional as F \n",
    "import torchvision\n",
    "import torchvision.transforms as tranforms \n",
    "import matplotlib.pyplot as plt \n",
    "import numpy as np"
   ]
  }
 ],
 "metadata": {
  "kernelspec": {
   "display_name": "torch_env",
   "language": "python",
   "name": "python3"
  },
  "language_info": {
   "codemirror_mode": {
    "name": "ipython",
    "version": 3
   },
   "file_extension": ".py",
   "mimetype": "text/x-python",
   "name": "python",
   "nbconvert_exporter": "python",
   "pygments_lexer": "ipython3",
   "version": "3.13.0"
  }
 },
 "nbformat": 4,
 "nbformat_minor": 5
}
