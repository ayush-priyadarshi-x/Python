{
 "cells": [
  {
   "cell_type": "markdown",
   "id": "d1ce37bf",
   "metadata": {},
   "source": [
    "## 3. Model, Loss & Optimizer\n",
    "\n",
    "#### A typical PyTorch pipeline looks like this:\n",
    "\n",
    "1. Design model (input, output, forward pass with different layers)\n",
    "2. Construct loss and optimizer\n",
    "3. Training Loop\n",
    "   - Forward = computer prediction and loss\n",
    "   - Backward = computer gradients\n",
    "   - Update weights\n"
   ]
  },
  {
   "cell_type": "code",
   "execution_count": null,
   "id": "59976390",
   "metadata": {},
   "outputs": [],
   "source": [
    "import torch \n",
    "import torch.nn as nn \n"
   ]
  },
  {
   "cell_type": "code",
   "execution_count": null,
   "id": "918f1d79",
   "metadata": {},
   "outputs": [],
   "source": []
  }
 ],
 "metadata": {
  "kernelspec": {
   "display_name": "torch_env",
   "language": "python",
   "name": "python3"
  },
  "language_info": {
   "name": "python",
   "version": "3.13.0"
  }
 },
 "nbformat": 4,
 "nbformat_minor": 5
}
