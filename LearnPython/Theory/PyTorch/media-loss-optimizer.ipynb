{
 "cells": [
  {
   "cell_type": "markdown",
   "id": "d1ce37bf",
   "metadata": {},
   "source": [
    "## 3. Model, Loss & Optimizer\n",
    "\n",
    "#### A typical PyTorch pipeline looks like this:\n",
    "\n",
    "1. Design model (input, output, forward pass with different layers)\n",
    "2. Construct loss and optimizer\n",
    "3. Training Loop\n",
    "   - Forward = computer prediction and loss\n",
    "   - Backward = computer gradients\n",
    "   - Update weights\n"
   ]
  },
  {
   "cell_type": "code",
   "execution_count": 1,
   "id": "59976390",
   "metadata": {},
   "outputs": [],
   "source": [
    "import torch \n",
    "import torch.nn as nn \n"
   ]
  },
  {
   "cell_type": "code",
   "execution_count": 3,
   "id": "918f1d79",
   "metadata": {},
   "outputs": [
    {
     "name": "stdout",
     "output_type": "stream",
     "text": [
      "n_samples = 8, n_features = 1\n"
     ]
    }
   ],
   "source": [
    "# Linear Expression \n",
    "# f = w * x \n",
    "# here : f = 2 * x \n",
    "\n",
    "# 0) Training samples, watch the shape! \n",
    "X = torch.tensor([[1], [2], [3], [4], [5], [6], [7], [8]])\n",
    "Y = torch.tensor([[2], [4], [6], [8], [10], [12], [14], [16]])\n",
    "\n",
    "n_samples, n_features = X.shape\n",
    "print(f'n_samples = {n_samples}, n_features = {n_features}')\n",
    "\n",
    "# 0) create a test sample \n",
    "X_test = torch.tensor([5], dtype=torch.float32)\n"
   ]
  },
  {
   "cell_type": "code",
   "execution_count": 6,
   "id": "99b69628",
   "metadata": {},
   "outputs": [
    {
     "name": "stdout",
     "output_type": "stream",
     "text": [
      "Prediction before training: f(5.0) = -1.199\n"
     ]
    }
   ],
   "source": [
    "# 1) Design Model, the model has to implement the forward pass ! \n",
    "\n",
    "# Here we could simply use a built-in model from PyTorch \n",
    "# model = nn.Linear(input_size, output_size)\n",
    "\n",
    "class LinearRegression(nn.Module): \n",
    "    def __init__(self, input_dim, output_dim):\n",
    "        super(LinearRegression, self).__init__()\n",
    "        # Define different layers \n",
    "        self.lin = nn.Linear(input_dim, output_dim)\n",
    "\n",
    "    def forward(self, x): \n",
    "        return self.lin(x)\n",
    "    \n",
    "input_size, output_size = n_features, n_features\n",
    "\n",
    "model = LinearRegression(input_size, output_size)\n",
    "\n",
    "print(f'Prediction before training: f({X_test.item()}) = {model(X_test).item():.3f}')"
   ]
  }
 ],
 "metadata": {
  "kernelspec": {
   "display_name": "torch_env",
   "language": "python",
   "name": "python3"
  },
  "language_info": {
   "codemirror_mode": {
    "name": "ipython",
    "version": 3
   },
   "file_extension": ".py",
   "mimetype": "text/x-python",
   "name": "python",
   "nbconvert_exporter": "python",
   "pygments_lexer": "ipython3",
   "version": "3.13.0"
  }
 },
 "nbformat": 4,
 "nbformat_minor": 5
}
