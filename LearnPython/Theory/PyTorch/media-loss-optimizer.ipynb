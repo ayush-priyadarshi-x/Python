{
 "cells": [
  {
   "cell_type": "markdown",
   "id": "d1ce37bf",
   "metadata": {},
   "source": [
    "## 3. Model, Loss & Optimizer\n",
    "\n",
    "#### A typical PyTorch pipeline looks like this:\n",
    "\n",
    "1. Design model (input, output, forward pass with different layers)\n",
    "2. Construct loss and optimizer\n",
    "3. Training Loop\n",
    "   - Forward = computer prediction and loss\n",
    "   - Backward = computer gradients\n",
    "   - Update weights\n"
   ]
  },
  {
   "cell_type": "code",
   "execution_count": 1,
   "id": "59976390",
   "metadata": {},
   "outputs": [],
   "source": [
    "import torch \n",
    "import torch.nn as nn \n"
   ]
  },
  {
   "cell_type": "code",
   "execution_count": 3,
   "id": "918f1d79",
   "metadata": {},
   "outputs": [
    {
     "name": "stdout",
     "output_type": "stream",
     "text": [
      "n_samples = 8, n_features = 1\n"
     ]
    }
   ],
   "source": [
    "# Linear Expression \n",
    "# f = w * x \n",
    "# here : f = 2 * x \n",
    "\n",
    "# 0) Training samples, watch the shape! \n",
    "X = torch.tensor([[1], [2], [3], [4], [5], [6], [7], [8]])\n",
    "Y = torch.tensor([[2], [4], [6], [8], [10], [12], [14], [16]])\n",
    "\n",
    "n_samples, n_features = X.shape\n",
    "print(f'n_samples = {n_samples}, n_features = {n_features}')\n",
    "\n",
    "# 0) create a test sample \n",
    "X_test = torch.tensor([5], dtype=torch.float32)\n"
   ]
  }
 ],
 "metadata": {
  "kernelspec": {
   "display_name": "torch_env",
   "language": "python",
   "name": "python3"
  },
  "language_info": {
   "codemirror_mode": {
    "name": "ipython",
    "version": 3
   },
   "file_extension": ".py",
   "mimetype": "text/x-python",
   "name": "python",
   "nbconvert_exporter": "python",
   "pygments_lexer": "ipython3",
   "version": "3.13.0"
  }
 },
 "nbformat": 4,
 "nbformat_minor": 5
}
