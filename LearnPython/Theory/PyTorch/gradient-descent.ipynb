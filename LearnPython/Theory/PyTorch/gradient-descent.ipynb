{
 "cells": [
  {
   "cell_type": "markdown",
   "id": "415bc26d",
   "metadata": {},
   "source": [
    "### Gradient Descent Autograd\n",
    "\n",
    "Linear Regression example:\n",
    "\n",
    "- _f(x) = w \\* x + b_\n"
   ]
  },
  {
   "cell_type": "code",
   "execution_count": 7,
   "id": "c84bec89",
   "metadata": {},
   "outputs": [],
   "source": [
    "import torch\n"
   ]
  },
  {
   "cell_type": "code",
   "execution_count": 6,
   "id": "430339a0",
   "metadata": {},
   "outputs": [
    {
     "name": "stdout",
     "output_type": "stream",
     "text": [
      "Prediction before training: f(5.0) = 0.000\n"
     ]
    }
   ],
   "source": [
    "# Training data\n",
    "X = torch.tensor([1, 2, 3, 4, 5, 6, 7, 8], dtype=torch.float32)\n",
    "Y = torch.tensor([2, 4, 6, 8, 10, 12, 14, 16], dtype=torch.float32)\n",
    "\n",
    "# Initialize weight\n",
    "w = torch.tensor(0.0, dtype=torch.float32, requires_grad=True)\n",
    "\n",
    "# Model\n",
    "def forward(x):\n",
    "    return w * x\n",
    "\n",
    "# Mean Squared Error Loss\n",
    "def loss(y, y_pred):\n",
    "    return ((y_pred - y) ** 2).mean()\n",
    "\n",
    "# Initial prediction\n",
    "x_test = 5.0\n",
    "print(f\"Prediction before training: f({x_test}) = {forward(x_test).item():.3f}\")"
   ]
  },
  {
   "cell_type": "code",
   "execution_count": 10,
   "id": "709be415",
   "metadata": {},
   "outputs": [
    {
     "name": "stdout",
     "output_type": "stream",
     "text": [
      "Prediction after training: f(5.0) = 10.000\n"
     ]
    }
   ],
   "source": [
    "# Training loop\n",
    "learning_rate = 0.01  # Smaller LR to prevent instability\n",
    "n_epochs = 100\n",
    "\n",
    "for epoch in range(n_epochs):\n",
    "    # Forward pass\n",
    "    y_pred = forward(X)\n",
    "    l = loss(Y, y_pred)\n",
    "    if ((l.item()) == 0): \n",
    "        break\n",
    "        \n",
    "    # Backward pass\n",
    "    l.backward()\n",
    "\n",
    "    # Update weights safely\n",
    "    with torch.no_grad():\n",
    "        # Optional: Clip gradients to prevent exploding\n",
    "        torch.nn.utils.clip_grad_norm_([w], max_norm=10.0)\n",
    "\n",
    "        if not torch.isnan(w.grad).any():\n",
    "            w -= learning_rate * w.grad\n",
    "        else:\n",
    "            print(f\"NaN detected in gradients at epoch {epoch}\")\n",
    "            break\n",
    "\n",
    "    # Zero gradients\n",
    "    w.grad.zero_()\n",
    "\n",
    "    # Log every 10 epochs\n",
    "    if (epoch + 1) % 10 == 0:\n",
    "        print(f\"Epoch {epoch + 1}: w = {w.item():.4f}, loss = {l.item():.4f}\")\n",
    "\n",
    "# Final prediction\n",
    "print(f\"Prediction after training: f({x_test}) = {forward(x_test).item():.3f}\")"
   ]
  }
 ],
 "metadata": {
  "kernelspec": {
   "display_name": "torch_env",
   "language": "python",
   "name": "python3"
  },
  "language_info": {
   "codemirror_mode": {
    "name": "ipython",
    "version": 3
   },
   "file_extension": ".py",
   "mimetype": "text/x-python",
   "name": "python",
   "nbconvert_exporter": "python",
   "pygments_lexer": "ipython3",
   "version": "3.13.0"
  }
 },
 "nbformat": 4,
 "nbformat_minor": 5
}
