{
 "cells": [
  {
   "cell_type": "markdown",
   "id": "1e01fb34",
   "metadata": {},
   "source": [
    "### 1. Tensors\n"
   ]
  },
  {
   "cell_type": "code",
   "execution_count": 2,
   "id": "ef3bedc4",
   "metadata": {},
   "outputs": [
    {
     "name": "stderr",
     "output_type": "stream",
     "text": [
      "c:\\Users\\manoj\\OneDrive\\Desktop\\.vs_code\\Python\\LearnPython\\Theory\\PyTorch\\torch_env\\Lib\\site-packages\\torch\\_subclasses\\functional_tensor.py:276: UserWarning: Failed to initialize NumPy: No module named 'numpy' (Triggered internally at C:\\actions-runner\\_work\\pytorch\\pytorch\\pytorch\\torch\\csrc\\utils\\tensor_numpy.cpp:81.)\n",
      "  cpu = _conversion_method_template(device=torch.device(\"cpu\"))\n"
     ]
    },
    {
     "name": "stdout",
     "output_type": "stream",
     "text": [
      "empty(1): tensor([0.])\n",
      "empty(3): tensor([0., 0., 0.])\n",
      "empty(2,3): tensor([[0., 0., 0.],\n",
      "        [0., 0., 0.]])\n",
      "empty(2, 2, 3): tensor([[[0., 0., 0.],\n",
      "         [0., 0., 0.]],\n",
      "\n",
      "        [[0., 0., 0.],\n",
      "         [0., 0., 0.]]])\n",
      "rand(5,3): tensor([[0.3678, 0.1536, 0.4887],\n",
      "        [0.0143, 0.2768, 0.7862],\n",
      "        [0.2686, 0.3253, 0.7043],\n",
      "        [0.8337, 0.6597, 0.7088],\n",
      "        [0.9799, 0.2460, 0.2819]])\n",
      "zeros(5,3): tensor([[0., 0., 0.],\n",
      "        [0., 0., 0.],\n",
      "        [0., 0., 0.],\n",
      "        [0., 0., 0.],\n",
      "        [0., 0., 0.]])\n"
     ]
    }
   ],
   "source": [
    "import torch\n",
    "\n",
    "# torch.empty(size): uninitiallized\n",
    "x = torch.empty(1) # scalar\n",
    "print(\"empty(1):\", x)\n",
    "x = torch.empty(3) # vector\n",
    "print(\"empty(3):\",x)\n",
    "x = torch.empty(2, 3) # matrix\n",
    "print(\"empty(2,3):\",x)\n",
    "x = torch.empty(2, 2, 3) # tensor, 3 dimensions\n",
    "#x = torch.empty(2,2,2,3) # tensor, 4 dimensions\n",
    "print(\"empty(2, 2, 3):\",x)\n",
    "\n",
    "# torch.rand(size): random numbers [0, 1]\n",
    "x = torch.rand(5, 3)\n",
    "print(\"rand(5,3):\", x)\n",
    "\n",
    "# torch.zeros(size), fill with 0\n",
    "# torch.ones(size), fill with 1\n",
    "x = torch.zeros(5, 3)\n",
    "print(\"zeros(5,3):\", x)"
   ]
  },
  {
   "cell_type": "code",
   "execution_count": 6,
   "id": "f8a79378",
   "metadata": {},
   "outputs": [
    {
     "name": "stdout",
     "output_type": "stream",
     "text": [
      "Size :  torch.Size([5, 3])\n",
      "Shape :  torch.Size([5, 3])\n"
     ]
    }
   ],
   "source": [
    "# Check Size \n",
    "print(\"Size : \" , x.size())\n",
    "print(\"Shape : \" , x.shape)"
   ]
  },
  {
   "cell_type": "code",
   "execution_count": 8,
   "id": "28223ec7",
   "metadata": {},
   "outputs": [
    {
     "name": "stdout",
     "output_type": "stream",
     "text": [
      "torch.float32\n",
      "tensor([[0., 0., 0.],\n",
      "        [0., 0., 0.],\n",
      "        [0., 0., 0.],\n",
      "        [0., 0., 0.],\n",
      "        [0., 0., 0.]], dtype=torch.float16)\n",
      "torch.float16\n"
     ]
    }
   ],
   "source": [
    "# Check Datatype\n",
    "print(x.dtype)\n",
    "\n",
    "# Spcify types, float32 default\n",
    "x = torch.zeros(5,3, dtype=torch.float16)\n",
    "print(x)\n",
    "\n",
    "# Check Type\n",
    "print(x.dtype)"
   ]
  },
  {
   "cell_type": "code",
   "execution_count": 9,
   "id": "90146c4c",
   "metadata": {},
   "outputs": [
    {
     "name": "stdout",
     "output_type": "stream",
     "text": [
      "tensor([5, 5, 3]) torch.int64\n"
     ]
    }
   ],
   "source": [
    "# Construct from data \n",
    "x  = torch.tensor([5, 5, 3 ])\n",
    "print(x, x.dtype)"
   ]
  },
  {
   "cell_type": "code",
   "execution_count": 11,
   "id": "95eca6df",
   "metadata": {},
   "outputs": [
    {
     "name": "stdout",
     "output_type": "stream",
     "text": [
      "tensor([5.5000, 3.0000], requires_grad=True)\n"
     ]
    }
   ],
   "source": [
    "# Requires_grad argument \n",
    "# This will tell pytorch that it will need to calcuate the gradient for this tensor \n",
    "# Later in your optimization steps \n",
    "# i.e. this is a variable in your model that you want to optimize \n",
    "\n",
    "x = torch.tensor([5.5,3], requires_grad=True)\n",
    "print(x) \n"
   ]
  },
  {
   "cell_type": "code",
   "execution_count": 15,
   "id": "4030623d",
   "metadata": {},
   "outputs": [
    {
     "name": "stdout",
     "output_type": "stream",
     "text": [
      "tensor([[1., 1.],\n",
      "        [1., 1.]])\n",
      "tensor([[0.5894, 0.3779],\n",
      "        [0.9377, 0.5991]])\n",
      "Addition :  tensor([[1.5894, 1.3779],\n",
      "        [1.9377, 1.5991]])\n",
      "Subtraction :  tensor([[0.4106, 0.6221],\n",
      "        [0.0623, 0.4009]])\n",
      "Multiplication :  tensor([[0.5894, 0.3779],\n",
      "        [0.9377, 0.5991]])\n",
      "Division :  tensor([[1.6967, 2.6462],\n",
      "        [1.0665, 1.6691]])\n"
     ]
    }
   ],
   "source": [
    "# Operations\n",
    "x = torch.ones(2, 2)\n",
    "y = torch.rand(2, 2)\n",
    "\n",
    "# Elementwise addition\n",
    "z = x + y\n",
    "torch.add(x,y)\n",
    "# torch.add(x,y)\n",
    "\n",
    "#In plane addition, everything with a  trailing underscore is a inplace operation\n",
    "#i.e. it will modify the variable\n",
    "# y.add_(x)\n",
    "\n",
    "print(x)\n",
    "print(y)\n",
    "print(\"Addition : \", z)\n",
    "\n",
    "z = x - y \n",
    "torch.sub(x, y)\n",
    "print(\"Subtraction : \", z)\n",
    "\n",
    "z = x * y \n",
    "torch.mul(x, y)\n",
    "print(\"Multiplication : \", z)\n",
    "\n",
    "z = x / y \n",
    "torch.div(x, y)\n",
    "print(\"Division : \", z)\n"
   ]
  },
  {
   "cell_type": "code",
   "execution_count": 16,
   "id": "da5d2a96",
   "metadata": {},
   "outputs": [
    {
     "name": "stdout",
     "output_type": "stream",
     "text": [
      "tensor([[0.0103, 0.5702, 0.2058],\n",
      "        [0.8807, 0.2082, 0.0537],\n",
      "        [0.4114, 0.0852, 0.4756],\n",
      "        [0.4663, 0.7731, 0.0342],\n",
      "        [0.3840, 0.3547, 0.0573]])\n",
      "X[: , 0]  tensor([0.0103, 0.8807, 0.4114, 0.4663, 0.3840])\n",
      "X[1, :]  tensor([0.8807, 0.2082, 0.0537])\n",
      "X[1, 1]  tensor(0.2082)\n",
      "x[1, 1].item()  0.20821809768676758\n"
     ]
    }
   ],
   "source": [
    "# Slicing \n",
    "x = torch.rand(5, 3)\n",
    "print(x)\n",
    "print(\"X[: , 0] \", x[: , 0 ])\n",
    "print(\"X[1, :] \", x[1, :  ])\n",
    "print(\"X[1, 1] \", x[1, 1])\n",
    "\n",
    "print(\"x[1, 1].item() \", x[1,1].item())"
   ]
  }
 ],
 "metadata": {
  "kernelspec": {
   "display_name": "torch_env",
   "language": "python",
   "name": "python3"
  },
  "language_info": {
   "codemirror_mode": {
    "name": "ipython",
    "version": 3
   },
   "file_extension": ".py",
   "mimetype": "text/x-python",
   "name": "python",
   "nbconvert_exporter": "python",
   "pygments_lexer": "ipython3",
   "version": "3.13.0"
  }
 },
 "nbformat": 4,
 "nbformat_minor": 5
}
