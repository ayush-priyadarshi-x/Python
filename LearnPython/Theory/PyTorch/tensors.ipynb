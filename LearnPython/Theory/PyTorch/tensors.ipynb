{
 "cells": [
  {
   "cell_type": "markdown",
   "id": "1e01fb34",
   "metadata": {},
   "source": [
    "### 1. Tensors\n"
   ]
  },
  {
   "cell_type": "code",
   "execution_count": 2,
   "id": "ef3bedc4",
   "metadata": {},
   "outputs": [
    {
     "name": "stdout",
     "output_type": "stream",
     "text": [
      "empty(1): tensor([193.0256])\n",
      "empty(3): tensor([0., 0., 0.])\n",
      "empty(2,3): tensor([[0., 0., 0.],\n",
      "        [0., 0., 0.]])\n",
      "empty(2, 2, 3): tensor([[[0., 0., 0.],\n",
      "         [0., 0., 0.]],\n",
      "\n",
      "        [[0., 0., 0.],\n",
      "         [0., 0., 0.]]])\n",
      "rand(5,3): tensor([[0.1971, 0.1964, 0.0810],\n",
      "        [0.8937, 0.6745, 0.7770],\n",
      "        [0.8008, 0.0532, 0.6594],\n",
      "        [0.2733, 0.6684, 0.4483],\n",
      "        [0.1797, 0.5523, 0.3689]])\n",
      "zeros(5,3): tensor([[0., 0., 0.],\n",
      "        [0., 0., 0.],\n",
      "        [0., 0., 0.],\n",
      "        [0., 0., 0.],\n",
      "        [0., 0., 0.]])\n"
     ]
    }
   ],
   "source": [
    "import torch\n",
    "import numpy as np\n",
    "\n",
    "# torch.empty(size): uninitiallized\n",
    "x = torch.empty(1) # scalar\n",
    "print(\"empty(1):\", x)\n",
    "x = torch.empty(3) # vector\n",
    "print(\"empty(3):\",x)\n",
    "x = torch.empty(2, 3) # matrix\n",
    "print(\"empty(2,3):\",x)\n",
    "x = torch.empty(2, 2, 3) # tensor, 3 dimensions\n",
    "#x = torch.empty(2,2,2,3) # tensor, 4 dimensions\n",
    "print(\"empty(2, 2, 3):\",x)\n",
    "\n",
    "# torch.rand(size): random numbers [0, 1]\n",
    "x = torch.rand(5, 3)\n",
    "print(\"rand(5,3):\", x)\n",
    "\n",
    "# torch.zeros(size), fill with 0\n",
    "# torch.ones(size), fill with 1\n",
    "x = torch.zeros(5, 3)\n",
    "print(\"zeros(5,3):\", x)"
   ]
  },
  {
   "cell_type": "code",
   "execution_count": 2,
   "id": "f8a79378",
   "metadata": {},
   "outputs": [
    {
     "name": "stdout",
     "output_type": "stream",
     "text": [
      "Size :  torch.Size([5, 3])\n",
      "Shape :  torch.Size([5, 3])\n"
     ]
    }
   ],
   "source": [
    "# Check Size \n",
    "print(\"Size : \" , x.size())\n",
    "print(\"Shape : \" , x.shape)"
   ]
  },
  {
   "cell_type": "code",
   "execution_count": 3,
   "id": "28223ec7",
   "metadata": {},
   "outputs": [
    {
     "name": "stdout",
     "output_type": "stream",
     "text": [
      "torch.float32\n",
      "tensor([[0., 0., 0.],\n",
      "        [0., 0., 0.],\n",
      "        [0., 0., 0.],\n",
      "        [0., 0., 0.],\n",
      "        [0., 0., 0.]], dtype=torch.float16)\n",
      "torch.float16\n"
     ]
    }
   ],
   "source": [
    "# Check Datatype\n",
    "print(x.dtype)\n",
    "\n",
    "# Spcify types, float32 default\n",
    "x = torch.zeros(5,3, dtype=torch.float16)\n",
    "print(x)\n",
    "\n",
    "# Check Type\n",
    "print(x.dtype)"
   ]
  },
  {
   "cell_type": "code",
   "execution_count": 4,
   "id": "90146c4c",
   "metadata": {},
   "outputs": [
    {
     "name": "stdout",
     "output_type": "stream",
     "text": [
      "tensor([5, 5, 3]) torch.int64\n"
     ]
    }
   ],
   "source": [
    "# Construct from data \n",
    "x  = torch.tensor([5, 5, 3 ])\n",
    "print(x, x.dtype)"
   ]
  },
  {
   "cell_type": "code",
   "execution_count": 5,
   "id": "95eca6df",
   "metadata": {},
   "outputs": [
    {
     "name": "stdout",
     "output_type": "stream",
     "text": [
      "tensor([5.5000, 3.0000], requires_grad=True)\n"
     ]
    }
   ],
   "source": [
    "# Requires_grad argument \n",
    "# This will tell pytorch that it will need to calcuate the gradient for this tensor \n",
    "# Later in your optimization steps \n",
    "# i.e. this is a variable in your model that you want to optimize \n",
    "\n",
    "x = torch.tensor([5.5,3], requires_grad=True)\n",
    "print(x) \n"
   ]
  },
  {
   "cell_type": "code",
   "execution_count": 6,
   "id": "4030623d",
   "metadata": {},
   "outputs": [
    {
     "name": "stdout",
     "output_type": "stream",
     "text": [
      "tensor([[1., 1.],\n",
      "        [1., 1.]])\n",
      "tensor([[0.7863, 0.9559],\n",
      "        [0.0012, 0.0594]])\n",
      "Addition :  tensor([[1.7863, 1.9559],\n",
      "        [1.0012, 1.0594]])\n",
      "Subtraction :  tensor([[0.2137, 0.0441],\n",
      "        [0.9988, 0.9406]])\n",
      "Multiplication :  tensor([[0.7863, 0.9559],\n",
      "        [0.0012, 0.0594]])\n",
      "Division :  tensor([[  1.2718,   1.0462],\n",
      "        [856.7672,  16.8261]])\n"
     ]
    }
   ],
   "source": [
    "# Operations\n",
    "x = torch.ones(2, 2)\n",
    "y = torch.rand(2, 2)\n",
    "\n",
    "# Elementwise addition\n",
    "z = x + y\n",
    "torch.add(x,y)\n",
    "# torch.add(x,y)\n",
    "\n",
    "#In plane addition, everything with a  trailing underscore is a inplace operation\n",
    "#i.e. it will modify the variable\n",
    "# y.add_(x)\n",
    "\n",
    "print(x)\n",
    "print(y)\n",
    "print(\"Addition : \", z)\n",
    "\n",
    "z = x - y \n",
    "torch.sub(x, y)\n",
    "print(\"Subtraction : \", z)\n",
    "\n",
    "z = x * y \n",
    "torch.mul(x, y)\n",
    "print(\"Multiplication : \", z)\n",
    "\n",
    "z = x / y \n",
    "torch.div(x, y)\n",
    "print(\"Division : \", z)\n"
   ]
  },
  {
   "cell_type": "code",
   "execution_count": 7,
   "id": "da5d2a96",
   "metadata": {},
   "outputs": [
    {
     "name": "stdout",
     "output_type": "stream",
     "text": [
      "tensor([[0.5230, 0.9031, 0.2481],\n",
      "        [0.1180, 0.0946, 0.4258],\n",
      "        [0.2380, 0.4115, 0.1813],\n",
      "        [0.8976, 0.0290, 0.3650],\n",
      "        [0.0104, 0.0867, 0.7953]])\n",
      "X[: , 0]  tensor([0.5230, 0.1180, 0.2380, 0.8976, 0.0104])\n",
      "X[1, :]  tensor([0.1180, 0.0946, 0.4258])\n",
      "X[1, 1]  tensor(0.0946)\n",
      "x[1, 1].item()  0.094623863697052\n"
     ]
    }
   ],
   "source": [
    "# Slicing \n",
    "x = torch.rand(5, 3)\n",
    "print(x)\n",
    "print(\"X[: , 0] \", x[: , 0 ])\n",
    "print(\"X[1, :] \", x[1, :  ])\n",
    "print(\"X[1, 1] \", x[1, 1])\n",
    "\n",
    "print(\"x[1, 1].item() \", x[1,1].item())"
   ]
  },
  {
   "cell_type": "code",
   "execution_count": 9,
   "id": "180a5db4",
   "metadata": {},
   "outputs": [
    {
     "name": "stdout",
     "output_type": "stream",
     "text": [
      "torch.Size([4, 4]) torch.Size([16]) torch.Size([2, 8])\n"
     ]
    }
   ],
   "source": [
    "# Reshape with torch.view()\n",
    "x = torch.randn(4, 4) \n",
    "y = x.view(16) # Shapes the x as (16, ) in y\n",
    "z = x.view(-1, 8) # The -1 tells PyTorch to infer the appropriate dimension automatically based on the total number of elements\n",
    "\n",
    "print(x.size(), y.size(), z.size())"
   ]
  },
  {
   "cell_type": "markdown",
   "id": "58a34a89",
   "metadata": {},
   "source": [
    "### NumPy\n",
    "\n",
    "#### Converting a Torch to a NumPy array and vice versa is very easy.\n"
   ]
  },
  {
   "cell_type": "code",
   "execution_count": 1,
   "id": "b0dd115c",
   "metadata": {},
   "outputs": [
    {
     "name": "stdout",
     "output_type": "stream",
     "text": [
      "tensor([1., 1., 1., 1., 1.])\n",
      "[1. 1. 1. 1. 1.]\n",
      "<class 'numpy.ndarray'>\n"
     ]
    }
   ],
   "source": [
    "import torch\n",
    "\n",
    "a = torch.ones(5)\n",
    "print(a)\n",
    "\n",
    "b = a.numpy()\n",
    "print(b)\n",
    "print(type(b))\n"
   ]
  },
  {
   "cell_type": "code",
   "execution_count": 3,
   "id": "e9ed2a55",
   "metadata": {},
   "outputs": [
    {
     "name": "stdout",
     "output_type": "stream",
     "text": [
      "[1. 1. 1. 1. 1.]\n",
      "tensor([1., 1., 1., 1., 1.], dtype=torch.float64)\n",
      "tensor([1., 1., 1., 1., 1.], dtype=torch.float64)\n",
      "[2. 2. 2. 2. 2.]\n",
      "tensor([2., 2., 2., 2., 2.], dtype=torch.float64)\n",
      "tensor([1., 1., 1., 1., 1.], dtype=torch.float64)\n"
     ]
    }
   ],
   "source": [
    "# Numpy to torch with .from_numpy(x), or torch.tensor() to copy it \n",
    "a = np.ones(5)\n",
    "b = torch.from_numpy(a)\n",
    "c = torch.tensor(a)\n",
    "print(a)\n",
    "print(b)\n",
    "print(c)\n",
    "\n",
    "# Again be careful when modifying\n",
    "a += 1 \n",
    "print(a)\n",
    "print(b)\n",
    "print(c)"
   ]
  }
 ],
 "metadata": {
  "kernelspec": {
   "display_name": "torch_env",
   "language": "python",
   "name": "python3"
  },
  "language_info": {
   "codemirror_mode": {
    "name": "ipython",
    "version": 3
   },
   "file_extension": ".py",
   "mimetype": "text/x-python",
   "name": "python",
   "nbconvert_exporter": "python",
   "pygments_lexer": "ipython3",
   "version": "3.13.0"
  }
 },
 "nbformat": 4,
 "nbformat_minor": 5
}
