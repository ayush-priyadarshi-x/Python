{
 "cells": [
  {
   "cell_type": "markdown",
   "id": "744b0710",
   "metadata": {},
   "source": [
    "## Numpy\n",
    "\n",
    "learn about numpy with chai aur code\n"
   ]
  },
  {
   "cell_type": "code",
   "execution_count": 1,
   "id": "b8abc5ca",
   "metadata": {},
   "outputs": [],
   "source": [
    "import numpy as np"
   ]
  },
  {
   "cell_type": "markdown",
   "id": "fc9b3d12",
   "metadata": {},
   "source": [
    "Creatin array from list\n"
   ]
  },
  {
   "cell_type": "code",
   "execution_count": 2,
   "id": "0e914ca0",
   "metadata": {},
   "outputs": [
    {
     "name": "stdout",
     "output_type": "stream",
     "text": [
      "1D array:  [1 2 3 4 5]\n",
      "2D array:  [[1 2 3]\n",
      " [4 5 6]]\n"
     ]
    }
   ],
   "source": [
    "arr_1d = np.array([1, 2, 3, 4, 5])\n",
    "print(\"1D array: \", arr_1d)\n",
    "\n",
    "arr_2d = np.array([[1,2,3], [4,5,6]])\n",
    "print(\"2D array: \", arr_2d)"
   ]
  },
  {
   "cell_type": "markdown",
   "id": "215cc712",
   "metadata": {},
   "source": [
    "### List vs numpy array\n"
   ]
  },
  {
   "cell_type": "code",
   "execution_count": 3,
   "id": "91444311",
   "metadata": {},
   "outputs": [
    {
     "name": "stdout",
     "output_type": "stream",
     "text": [
      "Python list multiplication  [1, 2, 3, 1, 2, 3]\n",
      "Python array multiplication  [2 4 6]\n"
     ]
    }
   ],
   "source": [
    "py_list = [1, 2, 3]\n",
    "print(\"Python list multiplication \", py_list * 2)\n",
    "\n",
    "np_array  = np.array([1, 2, 3])\n",
    "print(\"Python array multiplication \", np_array * 2)\n"
   ]
  },
  {
   "cell_type": "code",
   "execution_count": 4,
   "id": "1bbd1dcb",
   "metadata": {},
   "outputs": [
    {
     "name": "stdout",
     "output_type": "stream",
     "text": [
      "\n",
      " List operation time:  0.14803409576416016\n",
      "\n",
      " Numpy operation time:  0.012472391128540039\n"
     ]
    }
   ],
   "source": [
    "import time \n",
    "start = time.time()\n",
    "py_list = [i*2 for i  in range(1000000)]\n",
    "print(\"\\n List operation time: \", time.time() - start) \n",
    "\n",
    "start = time.time()\n",
    "np_array = np.arange(1000000) * 2 \n",
    "print(\"\\n Numpy operation time: \", time.time() - start) "
   ]
  },
  {
   "cell_type": "markdown",
   "id": "b1fc428e",
   "metadata": {},
   "source": [
    "### Creating array from scratch\n"
   ]
  },
  {
   "cell_type": "code",
   "execution_count": 5,
   "id": "04a8730c",
   "metadata": {},
   "outputs": [
    {
     "name": "stdout",
     "output_type": "stream",
     "text": [
      "Zeros array: \n",
      " [[0. 0. 0. 0.]\n",
      " [0. 0. 0. 0.]\n",
      " [0. 0. 0. 0.]]\n",
      "Ones array: \n",
      " [[1. 1. 1.]\n",
      " [1. 1. 1.]]\n"
     ]
    }
   ],
   "source": [
    "zeros = np.zeros((3, 4))\n",
    "print(\"Zeros array: \\n\", zeros)\n",
    "\n",
    "ones = np.ones((2, 3))\n",
    "print(\"Ones array: \\n\", ones)\n"
   ]
  },
  {
   "cell_type": "code",
   "execution_count": 6,
   "id": "4918e953",
   "metadata": {},
   "outputs": [
    {
     "name": "stdout",
     "output_type": "stream",
     "text": [
      "Full array: \n",
      " [[7 7]\n",
      " [7 7]]\n",
      "Random array: \n",
      " [[0.10333706 0.93249885 0.76216734]\n",
      " [0.06600014 0.5755701  0.38435658]]\n",
      "Sequence array: \n",
      " [ 0  2  4  6  8 10]\n"
     ]
    }
   ],
   "source": [
    "full = np.full((2,2), 7)\n",
    "print(\"Full array: \\n\", full)\n",
    "\n",
    "random = np.random.random((2, 3))\n",
    "print(\"Random array: \\n\", random)\n",
    "\n",
    "sequence = np.arange(0, 11, 2)\n",
    "print(\"Sequence array: \\n\", sequence)\n"
   ]
  },
  {
   "cell_type": "markdown",
   "id": "a53c6b68",
   "metadata": {},
   "source": [
    "### Vector, Matrix and Tensor\n"
   ]
  },
  {
   "cell_type": "code",
   "execution_count": 7,
   "id": "26fab566",
   "metadata": {},
   "outputs": [
    {
     "name": "stdout",
     "output_type": "stream",
     "text": [
      "\n",
      " Vector:  [1 2 3]\n",
      "\n",
      " Matrix:  [[1 2 3]\n",
      " [4 5 6]]\n",
      "\n",
      " Tensor:  [[[1 2]\n",
      "  [3 4]]\n",
      "\n",
      " [[5 6]\n",
      "  [7 8]]]\n"
     ]
    }
   ],
   "source": [
    "vector = np.array([1,2,3])\n",
    "print(\"\\n Vector: \", vector)\n",
    "\n",
    "matrix = np.array(\n",
    "                    [\n",
    "                    [1, 2, 3],\n",
    "                    [4, 5, 6]\n",
    "                    ]\n",
    "                    )\n",
    "print(\"\\n Matrix: \", matrix)\n",
    "\n",
    "tensor = np.array([\n",
    "    [\n",
    "     [1, 2], \n",
    "     [3, 4]], \n",
    "     [\n",
    "     [5, 6], \n",
    "     [7, 8]\n",
    "     ]\n",
    "     ])\n",
    "print(\"\\n Tensor: \", tensor)"
   ]
  },
  {
   "cell_type": "markdown",
   "id": "10f4b270",
   "metadata": {},
   "source": [
    "### Array Properties\n"
   ]
  },
  {
   "cell_type": "code",
   "execution_count": 8,
   "id": "b73ddc70",
   "metadata": {},
   "outputs": [
    {
     "name": "stdout",
     "output_type": "stream",
     "text": [
      "Shape  (2, 3)\n",
      "Dimension  2\n",
      "Size 6\n",
      "DType int64\n"
     ]
    }
   ],
   "source": [
    "arr = np.array([[1, 2, 3], [4, 5, 6]])\n",
    "print(\"Shape \", arr.shape)\n",
    "print(\"Dimension \", arr.ndim)\n",
    "print(\"Size\", arr.size)\n",
    "print(\"DType\", arr.dtype)\n"
   ]
  },
  {
   "cell_type": "markdown",
   "id": "ad282ec5",
   "metadata": {},
   "source": [
    "# Array Reshaping\n"
   ]
  },
  {
   "cell_type": "code",
   "execution_count": 11,
   "id": "8b9ba3b5",
   "metadata": {},
   "outputs": [
    {
     "name": "stdout",
     "output_type": "stream",
     "text": [
      "Original array  [ 0  1  2  3  4  5  6  7  8  9 10 11]\n",
      "\n",
      " Reshaped array  [[ 0  1  2  3]\n",
      " [ 4  5  6  7]\n",
      " [ 8  9 10 11]]\n",
      "\n",
      " Flattened array  [ 0  1  2  3  4  5  6  7  8  9 10 11]\n",
      "\n",
      " raveled array  [ 0  1  2  3  4  5  6  7  8  9 10 11]\n",
      "\n",
      " Transpose array  [[ 0  4  8]\n",
      " [ 1  5  9]\n",
      " [ 2  6 10]\n",
      " [ 3  7 11]]\n"
     ]
    }
   ],
   "source": [
    "arr = np.arange(12)\n",
    "print(\"Original array \", arr)\n",
    "\n",
    "reshaped = arr.reshape((3, 4))\n",
    "print(\"\\n Reshaped array \", reshaped)\n",
    "\n",
    "flattened = reshaped.flatten()\n",
    "print(\"\\n Flattened array \", flattened)\n",
    "\n",
    "# ravel ( returns view, instead of copy)\n",
    "raveled = reshaped.ravel()\n",
    "print(\"\\n raveled array \", raveled)\n",
    "\n",
    "# Transpose \n",
    "transponse = reshaped.T\n",
    "print(\"\\n Transpose array \", transponse)"
   ]
  },
  {
   "cell_type": "code",
   "execution_count": null,
   "id": "a6a1c519",
   "metadata": {},
   "outputs": [],
   "source": []
  }
 ],
 "metadata": {
  "kernelspec": {
   "display_name": "venv",
   "language": "python",
   "name": "python3"
  },
  "language_info": {
   "codemirror_mode": {
    "name": "ipython",
    "version": 3
   },
   "file_extension": ".py",
   "mimetype": "text/x-python",
   "name": "python",
   "nbconvert_exporter": "python",
   "pygments_lexer": "ipython3",
   "version": "3.13.0"
  }
 },
 "nbformat": 4,
 "nbformat_minor": 5
}
