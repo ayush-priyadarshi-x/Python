{
 "cells": [
  {
   "cell_type": "markdown",
   "id": "744b0710",
   "metadata": {},
   "source": [
    "## Numpy\n",
    "\n",
    "learn about numpy with chai aur code\n"
   ]
  },
  {
   "cell_type": "code",
   "execution_count": 1,
   "id": "b8abc5ca",
   "metadata": {},
   "outputs": [],
   "source": [
    "import numpy as np"
   ]
  },
  {
   "cell_type": "markdown",
   "id": "fc9b3d12",
   "metadata": {},
   "source": [
    "Creatin array from list\n"
   ]
  },
  {
   "cell_type": "code",
   "execution_count": 2,
   "id": "0e914ca0",
   "metadata": {},
   "outputs": [
    {
     "name": "stdout",
     "output_type": "stream",
     "text": [
      "1D array:  [1 2 3 4 5]\n",
      "2D array:  [[1 2 3]\n",
      " [4 5 6]]\n"
     ]
    }
   ],
   "source": [
    "arr_1d = np.array([1, 2, 3, 4, 5])\n",
    "print(\"1D array: \", arr_1d)\n",
    "\n",
    "arr_2d = np.array([[1,2,3], [4,5,6]])\n",
    "print(\"2D array: \", arr_2d)"
   ]
  },
  {
   "cell_type": "markdown",
   "id": "215cc712",
   "metadata": {},
   "source": [
    "### List vs numpy array\n"
   ]
  },
  {
   "cell_type": "code",
   "execution_count": 3,
   "id": "91444311",
   "metadata": {},
   "outputs": [
    {
     "name": "stdout",
     "output_type": "stream",
     "text": [
      "Python list multiplication  [1, 2, 3, 1, 2, 3]\n",
      "Python array multiplication  [2 4 6]\n"
     ]
    }
   ],
   "source": [
    "py_list = [1, 2, 3]\n",
    "print(\"Python list multiplication \", py_list * 2)\n",
    "\n",
    "np_array  = np.array([1, 2, 3])\n",
    "print(\"Python array multiplication \", np_array * 2)\n"
   ]
  },
  {
   "cell_type": "code",
   "execution_count": 9,
   "id": "1bbd1dcb",
   "metadata": {},
   "outputs": [
    {
     "name": "stdout",
     "output_type": "stream",
     "text": [
      "\n",
      " List operation time:  0.08390164375305176\n",
      "\n",
      " Numpy operation time:  0.08186078071594238\n"
     ]
    }
   ],
   "source": [
    "import time \n",
    "start = time.time()\n",
    "py_list = [i*2 for i  in range(1000000)]\n",
    "print(\"\\n List operation time: \", time.time() - start) \n",
    "\n",
    "start = time.time()\n",
    "np_array = np.arange(1000000) * 2 \n",
    "print(\"\\n Numpy operation time: \", time.time() - start) "
   ]
  },
  {
   "cell_type": "markdown",
   "id": "b1fc428e",
   "metadata": {},
   "source": [
    "### Creating array from scratch\n"
   ]
  },
  {
   "cell_type": "code",
   "execution_count": 10,
   "id": "04a8730c",
   "metadata": {},
   "outputs": [
    {
     "name": "stdout",
     "output_type": "stream",
     "text": [
      "Zeros array: \n",
      " [[0. 0. 0. 0.]\n",
      " [0. 0. 0. 0.]\n",
      " [0. 0. 0. 0.]]\n",
      "Ones array: \n",
      " [[1. 1. 1.]\n",
      " [1. 1. 1.]]\n"
     ]
    }
   ],
   "source": [
    "zeros = np.zeros((3, 4))\n",
    "print(\"Zeros array: \\n\", zeros)\n",
    "\n",
    "ones = np.ones((2, 3))\n",
    "print(\"Ones array: \\n\", ones)\n"
   ]
  },
  {
   "cell_type": "code",
   "execution_count": 13,
   "id": "4918e953",
   "metadata": {},
   "outputs": [
    {
     "name": "stdout",
     "output_type": "stream",
     "text": [
      "Full array: \n",
      " [[7 7]\n",
      " [7 7]]\n",
      "Random array: \n",
      " [[0.14693627 0.7002601  0.58911153]\n",
      " [0.51903236 0.40123996 0.8458161 ]]\n",
      "Sequence array: \n",
      " [ 0  2  4  6  8 10]\n"
     ]
    }
   ],
   "source": [
    "full = np.full((2,2), 7)\n",
    "print(\"Full array: \\n\", full)\n",
    "\n",
    "random = np.random.random((2, 3))\n",
    "print(\"Random array: \\n\", random)\n",
    "\n",
    "sequence = np.arange(0, 11, 2)\n",
    "print(\"Sequence array: \\n\", sequence)\n"
   ]
  },
  {
   "cell_type": "markdown",
   "id": "a53c6b68",
   "metadata": {},
   "source": [
    "### Vector, Matrix and Tensor\n"
   ]
  },
  {
   "cell_type": "code",
   "execution_count": null,
   "id": "26fab566",
   "metadata": {},
   "outputs": [
    {
     "name": "stdout",
     "output_type": "stream",
     "text": [
      "\n",
      " Vector:  [1 2 3]\n",
      "\n",
      " Matrix:  [[1 2 3]\n",
      " [4 5 6]]\n"
     ]
    }
   ],
   "source": [
    "vector = np.array([1,2,3])\n",
    "print(\"\\n Vector: \", vector)\n",
    "\n",
    "matrix = np.array(\n",
    "                    [\n",
    "                    [1, 2, 3],\n",
    "                    [4, 5, 6]\n",
    "                    ]\n",
    "                    )\n",
    "print(\"\\n Matrix: \", matrix)\n",
    "\n",
    "tensor = np.array([\n",
    "    [\n",
    "     [1, 2], \n",
    "     [3, 4]], \n",
    "     [\n",
    "     [5, 6], \n",
    "     [7, 8]\n",
    "     ]\n",
    "     ])\n",
    "print(\"\\n Tensor: \", tensor)"
   ]
  }
 ],
 "metadata": {
  "kernelspec": {
   "display_name": "venv",
   "language": "python",
   "name": "python3"
  },
  "language_info": {
   "codemirror_mode": {
    "name": "ipython",
    "version": 3
   },
   "file_extension": ".py",
   "mimetype": "text/x-python",
   "name": "python",
   "nbconvert_exporter": "python",
   "pygments_lexer": "ipython3",
   "version": "3.13.0"
  }
 },
 "nbformat": 4,
 "nbformat_minor": 5
}
