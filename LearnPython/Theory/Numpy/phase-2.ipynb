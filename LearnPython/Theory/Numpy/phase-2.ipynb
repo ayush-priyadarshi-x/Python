{
 "cells": [
  {
   "cell_type": "markdown",
   "id": "79201ae9",
   "metadata": {},
   "source": [
    "## Numpy Array operations\n"
   ]
  },
  {
   "cell_type": "code",
   "execution_count": 1,
   "id": "293407f5",
   "metadata": {},
   "outputs": [],
   "source": [
    "import numpy as np "
   ]
  },
  {
   "cell_type": "code",
   "execution_count": null,
   "id": "df77fe2c",
   "metadata": {},
   "outputs": [
    {
     "name": "stdout",
     "output_type": "stream",
     "text": [
      "Array:  [0 1 2 3 4 5 6 7 8 9]\n",
      "Basic slicing  [2 3 4 5 6]\n",
      "With step slicing  [1 3 5 7]\n"
     ]
    }
   ],
   "source": [
    "arr  = np.array([i for i in range(10)])\n",
    "print(\"Array: \", arr)\n",
    "print(\"Basic slicing \", arr[2:7])\n",
    "print(\"With step slicing \", arr[1:8:2])\n"
   ]
  },
  {
   "cell_type": "code",
   "execution_count": 10,
   "id": "a826475a",
   "metadata": {},
   "outputs": [
    {
     "name": "stdout",
     "output_type": "stream",
     "text": [
      "Specific Element  6\n",
      "Entire row:  [4 5 6]\n",
      "Entire  column:  [2 5 8]\n"
     ]
    }
   ],
   "source": [
    "arr_2d = np.array([[1, 2, 3], [4, 5, 6], [7, 8, 9]])\n",
    "print(\"Specific Element \", arr_2d[1, 2])\n",
    "print(\"Entire row: \", arr_2d[1])\n",
    "print(\"Entire  column: \", arr_2d[: , 1])"
   ]
  },
  {
   "cell_type": "code",
   "execution_count": 14,
   "id": "607c1e75",
   "metadata": {},
   "outputs": [
    {
     "name": "stdout",
     "output_type": "stream",
     "text": [
      "Sorted Array:  [ 1  3  3 23 45]\n",
      "Sorted 2D array by column:  [[2 1]\n",
      " [2 3]\n",
      " [3 3]]\n",
      "Sorted 2D array by row:  [[2 3]\n",
      " [1 3]\n",
      " [2 3]]\n"
     ]
    }
   ],
   "source": [
    "unsorted = np.array([3, 1, 3, 45 , 23 ])\n",
    "print(\"Sorted Array: \", np.sort(unsorted))\n",
    "\n",
    "arr_2d_unsorted = np.array([[2, 3], [3, 1], [2, 3]])\n",
    "print(\"Sorted 2D array by column: \", np.sort(arr_2d_unsorted, axis=0))\n",
    "print(\"Sorted 2D array by row: \", np.sort(arr_2d_unsorted, axis=1))"
   ]
  },
  {
   "cell_type": "code",
   "execution_count": null,
   "id": "d2a38538",
   "metadata": {},
   "outputs": [],
   "source": []
  }
 ],
 "metadata": {
  "kernelspec": {
   "display_name": "venv",
   "language": "python",
   "name": "python3"
  },
  "language_info": {
   "codemirror_mode": {
    "name": "ipython",
    "version": 3
   },
   "file_extension": ".py",
   "mimetype": "text/x-python",
   "name": "python",
   "nbconvert_exporter": "python",
   "pygments_lexer": "ipython3",
   "version": "3.13.0"
  }
 },
 "nbformat": 4,
 "nbformat_minor": 5
}
