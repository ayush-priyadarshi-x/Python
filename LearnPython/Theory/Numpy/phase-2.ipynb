{
 "cells": [
  {
   "cell_type": "markdown",
   "id": "79201ae9",
   "metadata": {},
   "source": [
    "## Numpy Array operations\n"
   ]
  },
  {
   "cell_type": "code",
   "execution_count": 1,
   "id": "293407f5",
   "metadata": {},
   "outputs": [],
   "source": [
    "import numpy as np "
   ]
  },
  {
   "cell_type": "code",
   "execution_count": 2,
   "id": "df77fe2c",
   "metadata": {},
   "outputs": [
    {
     "name": "stdout",
     "output_type": "stream",
     "text": [
      "Array:  [0 1 2 3 4 5 6 7 8 9]\n",
      "Basic slicing  [2 3 4 5 6]\n",
      "With step slicing  [1 3 5 7]\n"
     ]
    }
   ],
   "source": [
    "arr  = np.array([i for i in range(10)])\n",
    "print(\"Array: \", arr)\n",
    "print(\"Basic slicing \", arr[2:7])\n",
    "print(\"With step slicing \", arr[1:8:2])\n"
   ]
  },
  {
   "cell_type": "code",
   "execution_count": 3,
   "id": "a826475a",
   "metadata": {},
   "outputs": [
    {
     "name": "stdout",
     "output_type": "stream",
     "text": [
      "Specific Element  6\n",
      "Entire row:  [4 5 6]\n",
      "Entire  column:  [2 5 8]\n"
     ]
    }
   ],
   "source": [
    "arr_2d = np.array([[1, 2, 3], [4, 5, 6], [7, 8, 9]])\n",
    "print(\"Specific Element \", arr_2d[1, 2])\n",
    "print(\"Entire row: \", arr_2d[1])\n",
    "print(\"Entire  column: \", arr_2d[: , 1])"
   ]
  },
  {
   "cell_type": "code",
   "execution_count": 4,
   "id": "607c1e75",
   "metadata": {},
   "outputs": [
    {
     "name": "stdout",
     "output_type": "stream",
     "text": [
      "Sorted Array:  [ 1  3  3 23 45]\n",
      "Sorted 2D array by column:  [[2 1]\n",
      " [2 3]\n",
      " [3 3]]\n",
      "Sorted 2D array by row:  [[2 3]\n",
      " [1 3]\n",
      " [2 3]]\n"
     ]
    }
   ],
   "source": [
    "unsorted = np.array([3, 1, 3, 45 , 23 ])\n",
    "print(\"Sorted Array: \", np.sort(unsorted))\n",
    "\n",
    "arr_2d_unsorted = np.array([[2, 3], [3, 1], [2, 3]])\n",
    "print(\"Sorted 2D array by column: \", np.sort(arr_2d_unsorted, axis=0))\n",
    "print(\"Sorted 2D array by row: \", np.sort(arr_2d_unsorted, axis=1))"
   ]
  },
  {
   "cell_type": "markdown",
   "id": "6b8d8d40",
   "metadata": {},
   "source": [
    "## Filter\n"
   ]
  },
  {
   "cell_type": "code",
   "execution_count": 5,
   "id": "9d0cb6df",
   "metadata": {},
   "outputs": [
    {
     "name": "stdout",
     "output_type": "stream",
     "text": [
      "Even numbers  [2 4 6 8]\n"
     ]
    }
   ],
   "source": [
    "numbers = np.array([i for i in range(1, 10)])\n",
    "even_number  = numbers[numbers % 2 == 0]\n",
    "print(\"Even numbers \", even_number)"
   ]
  },
  {
   "cell_type": "markdown",
   "id": "df82fc10",
   "metadata": {},
   "source": [
    "### Filter with Mask\n"
   ]
  },
  {
   "cell_type": "code",
   "execution_count": 6,
   "id": "499524e7",
   "metadata": {},
   "outputs": [
    {
     "name": "stdout",
     "output_type": "stream",
     "text": [
      "Numbers greater than 5  [6 7 8 9]\n"
     ]
    }
   ],
   "source": [
    "mask = numbers > 5 \n",
    "print(\"Numbers greater than 5 \", numbers[mask])"
   ]
  },
  {
   "cell_type": "markdown",
   "id": "86cb6a10",
   "metadata": {},
   "source": [
    "## Fancy indexing vs np.where()\n"
   ]
  },
  {
   "cell_type": "code",
   "execution_count": 7,
   "id": "e1d49b53",
   "metadata": {},
   "outputs": [
    {
     "name": "stdout",
     "output_type": "stream",
     "text": [
      "[1 3 5]\n",
      "(array([5, 6, 7, 8]),)\n",
      "NP where  [6 7 8 9]\n"
     ]
    }
   ],
   "source": [
    "indicies = [0, 2, 4]\n",
    "print(numbers[indicies])\n",
    "\n",
    "where_result = np.where(numbers > 5)\n",
    "print(where_result)\n",
    "print(\"NP where \", numbers[where_result])"
   ]
  },
  {
   "cell_type": "code",
   "execution_count": 8,
   "id": "a3c54ef0",
   "metadata": {},
   "outputs": [
    {
     "name": "stdout",
     "output_type": "stream",
     "text": [
      "['False' 'False' 'False' 'False' 'False' 'True' 'True' 'True' 'True']\n"
     ]
    }
   ],
   "source": [
    "condition_array = np.where(numbers > 5, \"True\", \"False\")\n",
    "print(condition_array)\n",
    "\n",
    "# if(numbers > 5){return \"True\"}else{return \"False\"}"
   ]
  },
  {
   "cell_type": "markdown",
   "id": "6e7e4ca2",
   "metadata": {},
   "source": [
    "# Adding and removing data\n"
   ]
  },
  {
   "cell_type": "code",
   "execution_count": 9,
   "id": "4a6031fb",
   "metadata": {},
   "outputs": [
    {
     "name": "stdout",
     "output_type": "stream",
     "text": [
      "Combined array  [1 2 3 4 5 6]\n"
     ]
    }
   ],
   "source": [
    "arr1 = np.array([1, 2, 3])\n",
    "arr2 = np.array([4, 5, 6])\n",
    "\n",
    "combined = np.concatenate((arr1, arr2))\n",
    "print(\"Combined array \", combined)"
   ]
  },
  {
   "cell_type": "markdown",
   "id": "25cbf478",
   "metadata": {},
   "source": [
    "# Array compatiblity\n"
   ]
  },
  {
   "cell_type": "code",
   "execution_count": 11,
   "id": "b1e366f2",
   "metadata": {},
   "outputs": [
    {
     "name": "stdout",
     "output_type": "stream",
     "text": [
      "Compatiblity shapes  False\n"
     ]
    }
   ],
   "source": [
    "a = np.array([1, 2, 3])\n",
    "b = np.array([4, 4,5, 6])\n",
    "c = np.array([7, 8, 9])\n",
    "\n",
    "print(\"Compatiblity shapes \", a.shape == b.shape)"
   ]
  },
  {
   "cell_type": "code",
   "execution_count": 15,
   "id": "754a84ae",
   "metadata": {},
   "outputs": [
    {
     "name": "stdout",
     "output_type": "stream",
     "text": [
      "[[1 2]\n",
      " [3 4]]\n",
      "[[1 2]\n",
      " [3 4]\n",
      " [5 6]]\n",
      "\n",
      "\n",
      "\n",
      "[[1 2]\n",
      " [3 4]]\n",
      "[[1 2 7]\n",
      " [3 4 8]]\n"
     ]
    }
   ],
   "source": [
    "original = np.array([[1, 2], [3, 4]])\n",
    "new_row = np.array([[5, 6]])\n",
    "\n",
    "with_new_row = np.vstack((original, new_row))\n",
    "print(original)\n",
    "print(with_new_row)\n",
    "\n",
    "print(\"\\n\\n\")\n",
    "new_col = np.array([[7], [8]])\n",
    "with_new_col = np.hstack((original, new_col))\n",
    "print(original)\n",
    "print(with_new_col)"
   ]
  },
  {
   "cell_type": "code",
   "execution_count": 17,
   "id": "7d173f55",
   "metadata": {},
   "outputs": [
    {
     "name": "stdout",
     "output_type": "stream",
     "text": [
      "Array after deletion:  [1 2 4]\n"
     ]
    }
   ],
   "source": [
    "arr = np.array([1, 2, 3, 4])\n",
    "deleted = np.delete(arr, 2)\n",
    "print(\"Array after deletion: \", deleted)"
   ]
  }
 ],
 "metadata": {
  "kernelspec": {
   "display_name": "venv",
   "language": "python",
   "name": "python3"
  },
  "language_info": {
   "codemirror_mode": {
    "name": "ipython",
    "version": 3
   },
   "file_extension": ".py",
   "mimetype": "text/x-python",
   "name": "python",
   "nbconvert_exporter": "python",
   "pygments_lexer": "ipython3",
   "version": "3.13.0"
  }
 },
 "nbformat": 4,
 "nbformat_minor": 5
}
