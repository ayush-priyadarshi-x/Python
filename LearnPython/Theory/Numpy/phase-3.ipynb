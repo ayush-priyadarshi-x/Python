{
 "cells": [
  {
   "cell_type": "code",
   "execution_count": 2,
   "id": "50d4fcf8",
   "metadata": {},
   "outputs": [
    {
     "name": "stderr",
     "output_type": "stream",
     "text": [
      "Matplotlib is building the font cache; this may take a moment.\n"
     ]
    }
   ],
   "source": [
    "import numpy as np\n",
    "import matplotlib.pyplot as plt"
   ]
  },
  {
   "cell_type": "code",
   "execution_count": 11,
   "id": "e8852299",
   "metadata": {},
   "outputs": [
    {
     "name": "stdout",
     "output_type": "stream",
     "text": [
      " === Zomato Sales Analysis === \n",
      "\n",
      " Sales data shape (5, 5)\n",
      "\n",
      " Sample data for 1st 3 restaurant:  [[     1 150000 180000 220000 250000]\n",
      " [     2 120000 140000 160000 190000]\n",
      " [     3 200000 230000 260000 300000]]\n",
      "\n",
      " Printing Data without ID\n",
      "\n",
      " Sample data for 1st 3 restaurant:  [[150000 180000 220000 250000]\n",
      " [120000 140000 160000 190000]\n",
      " [200000 230000 260000 300000]\n",
      " [180000 210000 240000 270000]\n",
      " [160000 185000 205000 230000]]\n"
     ]
    }
   ],
   "source": [
    "# Data structure: [restaurant_id, 2021, 2022, 2023, 2024]\n",
    "sales_data = np.array([\n",
    "    [1, 150000, 180000, 220000, 250000],  # Paradise Biryani\n",
    "    [2, 120000, 140000, 160000, 190000],  # Beijing Bites\n",
    "    [3, 200000, 230000, 260000, 300000],  # Pizza Hub\n",
    "    [4, 180000, 210000, 240000, 270000],  # Burger Point\n",
    "    [5, 160000, 185000, 205000, 230000]   # Chai Point\n",
    "])\n",
    "print(\" === Zomato Sales Analysis === \")\n",
    "salesDataShape = sales_data.shape\n",
    "print(\"\\n Sales data shape\", salesDataShape)\n",
    "print(\"\\n Sample data for 1st 3 restaurant: \", sales_data[:3])\n",
    "print(\"\\n Printing Data without ID\")\n",
    "print(\"\\n Sample data for 1st 3 restaurant: \", sales_data[: , 1:])\n"
   ]
  }
 ],
 "metadata": {
  "kernelspec": {
   "display_name": "venv",
   "language": "python",
   "name": "python3"
  },
  "language_info": {
   "codemirror_mode": {
    "name": "ipython",
    "version": 3
   },
   "file_extension": ".py",
   "mimetype": "text/x-python",
   "name": "python",
   "nbconvert_exporter": "python",
   "pygments_lexer": "ipython3",
   "version": "3.13.0"
  }
 },
 "nbformat": 4,
 "nbformat_minor": 5
}
