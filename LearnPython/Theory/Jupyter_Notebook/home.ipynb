{
 "cells": [
  {
   "cell_type": "markdown",
   "id": "bdaeef36-096e-4e0d-9687-f259c7825ff8",
   "metadata": {},
   "source": [
    "# Welcome to Jupyter Notebook\n"
   ]
  },
  {
   "cell_type": "code",
   "execution_count": 3,
   "id": "0db56c8a-781d-4264-9e6c-3a0ee97d721e",
   "metadata": {},
   "outputs": [
    {
     "name": "stdout",
     "output_type": "stream",
     "text": [
      "Hello and welcome to the world of Jupyter Notebook. \n"
     ]
    }
   ],
   "source": [
    "print(\"Hello and welcome to the world of Jupyter Notebook. \")"
   ]
  },
  {
   "cell_type": "code",
   "execution_count": null,
   "id": "9585283c-66fb-401e-b4ec-72e93a4e04c7",
   "metadata": {},
   "outputs": [],
   "source": [
    "print(\"Hello for Jupyter Lab in VS CODe\")"
   ]
  },
  {
   "cell_type": "code",
   "execution_count": null,
   "id": "819f1df4",
   "metadata": {},
   "outputs": [],
   "source": []
  }
 ],
 "metadata": {
  "kernelspec": {
   "display_name": "Python 3 (ipykernel)",
   "language": "python",
   "name": "python3"
  },
  "language_info": {
   "codemirror_mode": {
    "name": "ipython",
    "version": 3
   },
   "file_extension": ".py",
   "mimetype": "text/x-python",
   "name": "python",
   "nbconvert_exporter": "python",
   "pygments_lexer": "ipython3",
   "version": "3.13.0"
  }
 },
 "nbformat": 4,
 "nbformat_minor": 5
}
